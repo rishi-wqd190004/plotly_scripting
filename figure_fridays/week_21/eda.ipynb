{
 "cells": [
  {
   "cell_type": "code",
   "execution_count": 1,
   "id": "6282455e",
   "metadata": {},
   "outputs": [],
   "source": [
    "import pandas as pd\n",
    "import joblib\n",
    "from sklearn.ensemble import RandomForestRegressor\n",
    "from sklearn.metrics import mean_absolute_error, mean_absolute_percentage_error"
   ]
  },
  {
   "cell_type": "code",
   "execution_count": 2,
   "id": "fe18d417",
   "metadata": {},
   "outputs": [
    {
     "name": "stdout",
     "output_type": "stream",
     "text": [
      "   Year  \\\n",
      "0  1751   \n",
      "1  1752   \n",
      "2  1753   \n",
      "3  1754   \n",
      "4  1755   \n",
      "\n",
      "   Total carbon emissions from fossil fuel consumption and cement production (million metric tons of C)  \\\n",
      "0                                                  3                                                      \n",
      "1                                                  3                                                      \n",
      "2                                                  3                                                      \n",
      "3                                                  3                                                      \n",
      "4                                                  3                                                      \n",
      "\n",
      "   Carbon emissions from solid fuel consumption  \\\n",
      "0                                             3   \n",
      "1                                             3   \n",
      "2                                             3   \n",
      "3                                             3   \n",
      "4                                             3   \n",
      "\n",
      "   Carbon emissions from liquid fuel consumption  \\\n",
      "0                                              0   \n",
      "1                                              0   \n",
      "2                                              0   \n",
      "3                                              0   \n",
      "4                                              0   \n",
      "\n",
      "   Carbon emissions from gas fuel consumption  \\\n",
      "0                                           0   \n",
      "1                                           0   \n",
      "2                                           0   \n",
      "3                                           0   \n",
      "4                                           0   \n",
      "\n",
      "   Carbon emissions from cement production  Carbon emissions from gas flaring  \\\n",
      "0                                        0                                  0   \n",
      "1                                        0                                  0   \n",
      "2                                        0                                  0   \n",
      "3                                        0                                  0   \n",
      "4                                        0                                  0   \n",
      "\n",
      "   Per capita carbon emissions (metric tons of carbon; after 1949 only)  \n",
      "0                                                NaN                     \n",
      "1                                                NaN                     \n",
      "2                                                NaN                     \n",
      "3                                                NaN                     \n",
      "4                                                NaN                     \n"
     ]
    }
   ],
   "source": [
    "glbl = pd.read_csv('../datasets_all/global.1751_2021.csv')\n",
    "print(glbl.head())"
   ]
  },
  {
   "cell_type": "code",
   "execution_count": 3,
   "id": "b8ecf7b9",
   "metadata": {},
   "outputs": [
    {
     "data": {
      "text/plain": [
       "(271, 8)"
      ]
     },
     "execution_count": 3,
     "metadata": {},
     "output_type": "execute_result"
    }
   ],
   "source": [
    "glbl.shape"
   ]
  },
  {
   "cell_type": "code",
   "execution_count": 4,
   "id": "f78fe280",
   "metadata": {},
   "outputs": [],
   "source": [
    "wrld = pd.read_excel('../datasets_all/nation.1751_2021.xlsx', engine='openpyxl')"
   ]
  },
  {
   "cell_type": "code",
   "execution_count": 5,
   "id": "ee72f0e0",
   "metadata": {},
   "outputs": [
    {
     "data": {
      "text/plain": [
       "(18991, 10)"
      ]
     },
     "execution_count": 5,
     "metadata": {},
     "output_type": "execute_result"
    }
   ],
   "source": [
    "wrld.shape"
   ]
  },
  {
   "cell_type": "code",
   "execution_count": 6,
   "id": "3808f807",
   "metadata": {},
   "outputs": [
    {
     "name": "stdout",
     "output_type": "stream",
     "text": [
      "<class 'pandas.core.frame.DataFrame'>\n",
      "RangeIndex: 18991 entries, 0 to 18990\n",
      "Data columns (total 10 columns):\n",
      " #   Column                                                                                   Non-Null Count  Dtype  \n",
      "---  ------                                                                                   --------------  -----  \n",
      " 0   Nation                                                                                   18991 non-null  object \n",
      " 1   Year                                                                                     18991 non-null  int64  \n",
      " 2   Total CO2 emissions from fossil-fuels and cement production (thousand metric tons of C)  18991 non-null  int64  \n",
      " 3   Emissions from solid fuel consumption                                                    13209 non-null  float64\n",
      " 4   Emissions from liquid fuel consumption                                                   18366 non-null  float64\n",
      " 5   Emissions from gas fuel consumption                                                      10742 non-null  float64\n",
      " 6   Emissions from cement production                                                         18415 non-null  float64\n",
      " 7   Emissions from gas flaring                                                               2921 non-null   float64\n",
      " 8   Per capita CO2 emissions (metric tons of carbon)                                         13466 non-null  float64\n",
      " 9   Emissions from bunker fuels (not included in the totals)                                 18698 non-null  float64\n",
      "dtypes: float64(7), int64(2), object(1)\n",
      "memory usage: 1.4+ MB\n"
     ]
    }
   ],
   "source": [
    "wrld.info()"
   ]
  },
  {
   "cell_type": "code",
   "execution_count": 7,
   "id": "2ee9388d",
   "metadata": {},
   "outputs": [
    {
     "data": {
      "text/plain": [
       "array(['AFGHANISTAN', 'ALBANIA', 'ALGERIA', 'ANDORRA', 'ANGOLA',\n",
       "       'ANGUILLA', 'ANTARCTIC FISHERIES', 'ANTIGUA & BARBUDA',\n",
       "       'ARGENTINA', 'ARMENIA', 'ARUBA', 'AUSTRALIA', 'AUSTRIA',\n",
       "       'AZERBAIJAN', 'BAHAMAS', 'BAHRAIN', 'BANGLADESH', 'BARBADOS',\n",
       "       'BELARUS', 'BELGIUM', 'BELIZE', 'BENIN', 'BERMUDA', 'BHUTAN',\n",
       "       'BONAIRE, SAINT EUSTATIUS, AND SABA', 'BOSNIA & HERZEGOVINA',\n",
       "       'BOTSWANA', 'BRAZIL', 'BRITISH VIRGIN ISLANDS',\n",
       "       'BRUNEI (DARUSSALAM)', 'BULGARIA', 'BURKINA FASO', 'BURUNDI',\n",
       "       'CAMBODIA', 'CANADA', 'CAPE VERDE', 'CAYMAN ISLANDS',\n",
       "       'CENTRAL AFRICAN REPUBLIC', 'CHAD', 'CHILE', 'CHINA (MAINLAND)',\n",
       "       'CHRISTMAS ISLAND', 'COLOMBIA', 'COMOROS', 'CONGO', 'COOK ISLANDS',\n",
       "       'COSTA RICA', 'COTE D IVOIRE', 'CROATIA', 'CUBA', 'CURACAO',\n",
       "       'CYPRUS', 'CZECH REPUBLIC', 'CZECHOSLOVAKIA',\n",
       "       'DEMOCRATIC PEOPLE S REPUBLIC OF KOREA',\n",
       "       'DEMOCRATIC REPUBLIC OF THE CONGO (FORMERLY ZAIRE)',\n",
       "       'DEMOCRATIC REPUBLIC OF VIETNAM', 'DENMARK', 'DJIBOUTI',\n",
       "       'DOMINICA', 'DOMINICAN REPUBLIC', 'EAST & WEST PAKISTAN',\n",
       "       'ECUADOR', 'EGYPT', 'EL SALVADOR', 'EQUATORIAL GUINEA', 'ERITREA',\n",
       "       'ESTONIA', 'ETHIOPIA', 'FAEROE ISLANDS',\n",
       "       'FALKLAND ISLANDS (MALVINAS)', 'FEDERAL REPUBLIC OF GERMANY',\n",
       "       'FEDERATED STATES OF MICRONESIA', 'FEDERATION OF MALAYA-SINGAPORE',\n",
       "       'FIJI', 'FINLAND', 'FORMER DEMOCRATIC YEMEN',\n",
       "       'FORMER GERMAN DEMOCRATIC REPUBLIC', 'FORMER PANAMA CANAL ZONE',\n",
       "       'FORMER YEMEN', 'FRANCE (INCLUDING MONACO)',\n",
       "       'FRENCH EQUATORIAL AFRICA', 'FRENCH GUIANA', 'FRENCH INDO-CHINA',\n",
       "       'FRENCH POLYNESIA', 'FRENCH WEST AFRICA', 'GABON', 'GAMBIA',\n",
       "       'GEORGIA', 'GERMANY', 'GHANA', 'GIBRALTAR', 'GREECE', 'GREENLAND',\n",
       "       'GRENADA', 'GUADELOUPE', 'GUATEMALA', 'GUINEA', 'GUINEA BISSAU',\n",
       "       'GUYANA', 'HAITI', 'HONDURAS',\n",
       "       'HONG KONG SPECIAL ADMINSTRATIVE REGION OF CHINA', 'HUNGARY',\n",
       "       'ICELAND', 'INDIA', 'INDONESIA', 'IRAQ', 'IRELAND',\n",
       "       'ISLAMIC REPUBLIC OF IRAN', 'ISLE OF MAN', 'ISRAEL',\n",
       "       'ITALY (INCLUDING SAN MARINO)', 'JAMAICA', 'JAPAN',\n",
       "       'JAPAN (EXCLUDING THE RUYUKU ISLANDS)', 'JORDAN', 'KAZAKHSTAN',\n",
       "       'KENYA', 'KIRIBATI', 'KOSOVO', 'KUWAIT', 'KUWAITI OIL FIRES',\n",
       "       'KYRGYZSTAN', 'LAO PEOPLE S DEMOCRATIC REPUBLIC', 'LATVIA',\n",
       "       'LEBANON', 'LEEWARD ISLANDS', 'LESOTHO', 'LIBERIA',\n",
       "       'LIBYAN ARAB JAMAHIRIYAH', 'LIECHTENSTEIN', 'LITHUANIA',\n",
       "       'LUXEMBOURG', 'MACAU SPECIAL ADMINSTRATIVE REGION OF CHINA',\n",
       "       'MACEDONIA', 'MADAGASCAR', 'MALAWI', 'MALAYSIA', 'MALDIVES',\n",
       "       'MALI', 'MALTA', 'MARSHALL ISLANDS', 'MARTINIQUE', 'MAURITANIA',\n",
       "       'MAURITIUS', 'MAYOTTE', 'MEXICO', 'MONGOLIA', 'MONTENEGRO',\n",
       "       'MONTSERRAT', 'MOROCCO', 'MOZAMBIQUE', 'MYANMAR (FORMERLY BURMA)',\n",
       "       'NAMIBIA', 'NAURU', 'NEPAL', 'NETHERLAND ANTILLES',\n",
       "       'NETHERLAND ANTILLES AND ARUBA', 'NETHERLANDS', 'NEW CALEDONIA',\n",
       "       'NEW ZEALAND', 'NICARAGUA', 'NIGER', 'NIGERIA', 'NIUE', 'NORWAY',\n",
       "       'OCCUPIED PALESTINIAN TERRITORY', 'OMAN',\n",
       "       'PACIFIC ISLANDS (PALAU)', 'PAKISTAN', 'PALAU', 'PANAMA',\n",
       "       'PAPUA NEW GUINEA', 'PARAGUAY', 'PENINSULAR MALAYSIA', 'PERU',\n",
       "       'PHILIPPINES', 'PLURINATIONAL STATE OF BOLIVIA', 'POLAND',\n",
       "       'PORTUGAL', 'PUERTO RICO', 'QATAR', 'REPUBLIC OF CAMEROON',\n",
       "       'REPUBLIC OF KOREA', 'REPUBLIC OF MOLDOVA',\n",
       "       'REPUBLIC OF SOUTH SUDAN', 'REPUBLIC OF SOUTH VIETNAM',\n",
       "       'REPUBLIC OF SUDAN', 'REUNION', 'RHODESIA-NYASALAND', 'ROMANIA',\n",
       "       'RUSSIAN FEDERATION', 'RWANDA', 'RWANDA-URUNDI', 'RYUKYU ISLANDS',\n",
       "       'SABAH', 'SAINT HELENA', 'SAINT LUCIA',\n",
       "       'SAINT MARTIN (DUTCH PORTION)', 'SAMOA', 'SAO TOME & PRINCIPE',\n",
       "       'SARAWAK', 'SAUDI ARABIA', 'SENEGAL', 'SERBIA', 'SEYCHELLES',\n",
       "       'SIERRA LEONE', 'SINGAPORE', 'SLOVAKIA', 'SLOVENIA',\n",
       "       'SOLOMON ISLANDS', 'SOMALIA', 'SOUTH AFRICA', 'SPAIN', 'SRI LANKA',\n",
       "       'ST. KITTS-NEVIS', 'ST. KITTS-NEVIS-ANGUILLA',\n",
       "       'ST. PIERRE & MIQUELON', 'ST. VINCENT & THE GRENADINES', 'SUDAN',\n",
       "       'SURINAME', 'SWAZILAND', 'SWEDEN', 'SWITZERLAND',\n",
       "       'SYRIAN ARAB REPUBLIC', 'TAIWAN', 'TAJIKISTAN', 'TANGANYIKA',\n",
       "       'THAILAND', 'TIMOR-LESTE (FORMERLY EAST TIMOR)', 'TOGO', 'TONGA',\n",
       "       'TRINIDAD AND TOBAGO', 'TUNISIA', 'TURKEY', 'TURKMENISTAN',\n",
       "       'TURKS AND CAICOS ISLANDS', 'TUVALU', 'UGANDA', 'UKRAINE',\n",
       "       'UNITED ARAB EMIRATES', 'UNITED KINGDOM', 'UNITED KOREA',\n",
       "       'UNITED REPUBLIC OF TANZANIA', 'UNITED STATES OF AMERICA',\n",
       "       'URUGUAY', 'USSR', 'UZBEKISTAN', 'VANUATU', 'VENEZUELA',\n",
       "       'VIET NAM', 'WALLIS AND FUTUNA ISLANDS', 'YEMEN',\n",
       "       'YUGOSLAVIA (FORMER SOCIALIST FEDERAL REPUBLIC)',\n",
       "       'YUGOSLAVIA (MONTENEGRO & SERBIA)', 'ZAMBIA', 'ZANZIBAR',\n",
       "       'ZIMBABWE'], dtype=object)"
      ]
     },
     "execution_count": 7,
     "metadata": {},
     "output_type": "execute_result"
    }
   ],
   "source": [
    "wrld.Nation.unique()"
   ]
  },
  {
   "cell_type": "code",
   "execution_count": 8,
   "id": "033db155",
   "metadata": {},
   "outputs": [
    {
     "data": {
      "text/html": [
       "<div>\n",
       "<style scoped>\n",
       "    .dataframe tbody tr th:only-of-type {\n",
       "        vertical-align: middle;\n",
       "    }\n",
       "\n",
       "    .dataframe tbody tr th {\n",
       "        vertical-align: top;\n",
       "    }\n",
       "\n",
       "    .dataframe thead th {\n",
       "        text-align: right;\n",
       "    }\n",
       "</style>\n",
       "<table border=\"1\" class=\"dataframe\">\n",
       "  <thead>\n",
       "    <tr style=\"text-align: right;\">\n",
       "      <th></th>\n",
       "      <th>Nation</th>\n",
       "      <th>Year</th>\n",
       "      <th>Total CO2 emissions from fossil-fuels and cement production (thousand metric tons of C)</th>\n",
       "      <th>Emissions from solid fuel consumption</th>\n",
       "      <th>Emissions from liquid fuel consumption</th>\n",
       "      <th>Emissions from gas fuel consumption</th>\n",
       "      <th>Emissions from cement production</th>\n",
       "      <th>Emissions from gas flaring</th>\n",
       "      <th>Per capita CO2 emissions (metric tons of carbon)</th>\n",
       "      <th>Emissions from bunker fuels (not included in the totals)</th>\n",
       "    </tr>\n",
       "  </thead>\n",
       "  <tbody>\n",
       "  </tbody>\n",
       "</table>\n",
       "</div>"
      ],
      "text/plain": [
       "Empty DataFrame\n",
       "Columns: [Nation, Year, Total CO2 emissions from fossil-fuels and cement production (thousand metric tons of C), Emissions from solid fuel consumption, Emissions from liquid fuel consumption, Emissions from gas fuel consumption, Emissions from cement production, Emissions from gas flaring, Per capita CO2 emissions (metric tons of carbon), Emissions from bunker fuels (not included in the totals)]\n",
       "Index: []"
      ]
     },
     "execution_count": 8,
     "metadata": {},
     "output_type": "execute_result"
    }
   ],
   "source": [
    "wrld[wrld['Nation'] == 'CHINA']"
   ]
  },
  {
   "cell_type": "code",
   "execution_count": 9,
   "id": "ac4c33ae",
   "metadata": {},
   "outputs": [
    {
     "data": {
      "text/html": [
       "<div>\n",
       "<style scoped>\n",
       "    .dataframe tbody tr th:only-of-type {\n",
       "        vertical-align: middle;\n",
       "    }\n",
       "\n",
       "    .dataframe tbody tr th {\n",
       "        vertical-align: top;\n",
       "    }\n",
       "\n",
       "    .dataframe thead th {\n",
       "        text-align: right;\n",
       "    }\n",
       "</style>\n",
       "<table border=\"1\" class=\"dataframe\">\n",
       "  <thead>\n",
       "    <tr style=\"text-align: right;\">\n",
       "      <th></th>\n",
       "      <th>Nation</th>\n",
       "      <th>Year</th>\n",
       "      <th>Total CO2 emissions from fossil-fuels and cement production (thousand metric tons of C)</th>\n",
       "      <th>Emissions from solid fuel consumption</th>\n",
       "      <th>Emissions from liquid fuel consumption</th>\n",
       "      <th>Emissions from gas fuel consumption</th>\n",
       "      <th>Emissions from cement production</th>\n",
       "      <th>Emissions from gas flaring</th>\n",
       "      <th>Per capita CO2 emissions (metric tons of carbon)</th>\n",
       "      <th>Emissions from bunker fuels (not included in the totals)</th>\n",
       "    </tr>\n",
       "  </thead>\n",
       "  <tbody>\n",
       "    <tr>\n",
       "      <th>0</th>\n",
       "      <td>AFGHANISTAN</td>\n",
       "      <td>1949</td>\n",
       "      <td>4</td>\n",
       "      <td>4.0</td>\n",
       "      <td>0.0</td>\n",
       "      <td>0.0</td>\n",
       "      <td>0.0</td>\n",
       "      <td>NaN</td>\n",
       "      <td>NaN</td>\n",
       "      <td>0.0</td>\n",
       "    </tr>\n",
       "    <tr>\n",
       "      <th>1</th>\n",
       "      <td>AFGHANISTAN</td>\n",
       "      <td>1950</td>\n",
       "      <td>23</td>\n",
       "      <td>6.0</td>\n",
       "      <td>18.0</td>\n",
       "      <td>0.0</td>\n",
       "      <td>0.0</td>\n",
       "      <td>NaN</td>\n",
       "      <td>0.003025</td>\n",
       "      <td>0.0</td>\n",
       "    </tr>\n",
       "    <tr>\n",
       "      <th>2</th>\n",
       "      <td>AFGHANISTAN</td>\n",
       "      <td>1951</td>\n",
       "      <td>25</td>\n",
       "      <td>7.0</td>\n",
       "      <td>18.0</td>\n",
       "      <td>0.0</td>\n",
       "      <td>0.0</td>\n",
       "      <td>NaN</td>\n",
       "      <td>0.003172</td>\n",
       "      <td>0.0</td>\n",
       "    </tr>\n",
       "    <tr>\n",
       "      <th>3</th>\n",
       "      <td>AFGHANISTAN</td>\n",
       "      <td>1952</td>\n",
       "      <td>25</td>\n",
       "      <td>9.0</td>\n",
       "      <td>17.0</td>\n",
       "      <td>0.0</td>\n",
       "      <td>0.0</td>\n",
       "      <td>NaN</td>\n",
       "      <td>0.003206</td>\n",
       "      <td>0.0</td>\n",
       "    </tr>\n",
       "    <tr>\n",
       "      <th>4</th>\n",
       "      <td>AFGHANISTAN</td>\n",
       "      <td>1953</td>\n",
       "      <td>29</td>\n",
       "      <td>10.0</td>\n",
       "      <td>18.0</td>\n",
       "      <td>0.0</td>\n",
       "      <td>0.0</td>\n",
       "      <td>NaN</td>\n",
       "      <td>0.003551</td>\n",
       "      <td>0.0</td>\n",
       "    </tr>\n",
       "  </tbody>\n",
       "</table>\n",
       "</div>"
      ],
      "text/plain": [
       "        Nation  Year  \\\n",
       "0  AFGHANISTAN  1949   \n",
       "1  AFGHANISTAN  1950   \n",
       "2  AFGHANISTAN  1951   \n",
       "3  AFGHANISTAN  1952   \n",
       "4  AFGHANISTAN  1953   \n",
       "\n",
       "   Total CO2 emissions from fossil-fuels and cement production (thousand metric tons of C)  \\\n",
       "0                                                  4                                         \n",
       "1                                                 23                                         \n",
       "2                                                 25                                         \n",
       "3                                                 25                                         \n",
       "4                                                 29                                         \n",
       "\n",
       "   Emissions from solid fuel consumption  \\\n",
       "0                                    4.0   \n",
       "1                                    6.0   \n",
       "2                                    7.0   \n",
       "3                                    9.0   \n",
       "4                                   10.0   \n",
       "\n",
       "   Emissions from liquid fuel consumption  \\\n",
       "0                                     0.0   \n",
       "1                                    18.0   \n",
       "2                                    18.0   \n",
       "3                                    17.0   \n",
       "4                                    18.0   \n",
       "\n",
       "   Emissions from gas fuel consumption  Emissions from cement production  \\\n",
       "0                                  0.0                               0.0   \n",
       "1                                  0.0                               0.0   \n",
       "2                                  0.0                               0.0   \n",
       "3                                  0.0                               0.0   \n",
       "4                                  0.0                               0.0   \n",
       "\n",
       "   Emissions from gas flaring  \\\n",
       "0                         NaN   \n",
       "1                         NaN   \n",
       "2                         NaN   \n",
       "3                         NaN   \n",
       "4                         NaN   \n",
       "\n",
       "   Per capita CO2 emissions (metric tons of carbon)  \\\n",
       "0                                               NaN   \n",
       "1                                          0.003025   \n",
       "2                                          0.003172   \n",
       "3                                          0.003206   \n",
       "4                                          0.003551   \n",
       "\n",
       "   Emissions from bunker fuels (not included in the totals)  \n",
       "0                                                0.0         \n",
       "1                                                0.0         \n",
       "2                                                0.0         \n",
       "3                                                0.0         \n",
       "4                                                0.0         "
      ]
     },
     "execution_count": 9,
     "metadata": {},
     "output_type": "execute_result"
    }
   ],
   "source": [
    "wrld.head()"
   ]
  },
  {
   "cell_type": "code",
   "execution_count": 10,
   "id": "28204273",
   "metadata": {},
   "outputs": [
    {
     "data": {
      "text/plain": [
       "Nation                                                                                         0\n",
       "Year                                                                                           0\n",
       "Total CO2 emissions from fossil-fuels and cement production (thousand metric tons of C)        0\n",
       "Emissions from solid fuel consumption                                                       5782\n",
       "Emissions from liquid fuel consumption                                                       625\n",
       "Emissions from gas fuel consumption                                                         8249\n",
       "Emissions from cement production                                                             576\n",
       "Emissions from gas flaring                                                                 16070\n",
       "Per capita CO2 emissions (metric tons of carbon)                                            5525\n",
       "Emissions from bunker fuels (not included in the totals)                                     293\n",
       "dtype: int64"
      ]
     },
     "execution_count": 10,
     "metadata": {},
     "output_type": "execute_result"
    }
   ],
   "source": [
    "wrld.isna().sum()"
   ]
  },
  {
   "cell_type": "code",
   "execution_count": 11,
   "id": "0aae58ce",
   "metadata": {},
   "outputs": [
    {
     "data": {
      "text/plain": [
       "Index(['ANTARCTIC FISHERIES', 'PACIFIC ISLANDS (PALAU)', 'UNITED KOREA',\n",
       "       'ARUBA', 'ERITREA', 'TUVALU', 'LIECHTENSTEIN',\n",
       "       'WALLIS AND FUTUNA ISLANDS', 'OCCUPIED PALESTINIAN TERRITORY',\n",
       "       'ANGUILLA', 'LESOTHO', 'ANDORRA', 'NAMIBIA', 'YEMEN',\n",
       "       'BOSNIA & HERZEGOVINA', 'ARMENIA', 'TAJIKISTAN', 'UZBEKISTAN',\n",
       "       'BELARUS', 'TURKMENISTAN', 'AZERBAIJAN', 'UKRAINE', 'PALAU', 'SLOVENIA',\n",
       "       'REPUBLIC OF MOLDOVA', 'GEORGIA', 'FORMER PANAMA CANAL ZONE',\n",
       "       'FEDERATED STATES OF MICRONESIA', 'KAZAKHSTAN', 'KYRGYZSTAN',\n",
       "       'LITHUANIA', 'MACEDONIA', 'MARSHALL ISLANDS', 'CROATIA',\n",
       "       'CZECH REPUBLIC', 'SLOVAKIA', 'RUSSIAN FEDERATION', 'FRENCH INDO-CHINA',\n",
       "       'EAST & WEST PAKISTAN', 'NETHERLAND ANTILLES',\n",
       "       'ST. KITTS-NEVIS-ANGUILLA', 'RYUKYU ISLANDS', 'SARAWAK', 'MAYOTTE',\n",
       "       'ZANZIBAR', 'ISLE OF MAN', 'SABAH', 'TIMOR-LESTE (FORMERLY EAST TIMOR)',\n",
       "       'TANGANYIKA', 'MONTENEGRO', 'SERBIA', 'REPUBLIC OF SOUTH VIETNAM',\n",
       "       'DEMOCRATIC REPUBLIC OF VIETNAM', 'YUGOSLAVIA (MONTENEGRO & SERBIA)',\n",
       "       'CHRISTMAS ISLAND', 'RHODESIA-NYASALAND', 'KOSOVO', 'RWANDA-URUNDI',\n",
       "       'REPUBLIC OF SOUTH SUDAN', 'REPUBLIC OF SUDAN',\n",
       "       'SAINT MARTIN (DUTCH PORTION)', 'CURACAO',\n",
       "       'BONAIRE, SAINT EUSTATIUS, AND SABA', 'FRENCH EQUATORIAL AFRICA',\n",
       "       'FRENCH WEST AFRICA', 'FEDERATION OF MALAYA-SINGAPORE',\n",
       "       'LEEWARD ISLANDS', 'KUWAITI OIL FIRES', 'PUERTO RICO'],\n",
       "      dtype='object', name='Nation')"
      ]
     },
     "execution_count": 11,
     "metadata": {},
     "output_type": "execute_result"
    }
   ],
   "source": [
    "rare_nations = wrld['Nation'].value_counts()\n",
    "rare_nations = rare_nations[rare_nations <= 40].index\n",
    "rare_nations"
   ]
  },
  {
   "cell_type": "code",
   "execution_count": 12,
   "id": "2d9d0dc5",
   "metadata": {},
   "outputs": [],
   "source": [
    "op = wrld[wrld.Nation == 'UNITED KINGDOM']['Year'].value_counts()"
   ]
  },
  {
   "cell_type": "code",
   "execution_count": 13,
   "id": "86eb0829",
   "metadata": {},
   "outputs": [
    {
     "data": {
      "text/plain": [
       "(1751, 2021)"
      ]
     },
     "execution_count": 13,
     "metadata": {},
     "output_type": "execute_result"
    }
   ],
   "source": [
    "wrld['Year'].min(), wrld['Year'].max()"
   ]
  },
  {
   "cell_type": "code",
   "execution_count": 14,
   "id": "56dc2a63",
   "metadata": {},
   "outputs": [
    {
     "data": {
      "text/html": [
       "<div>\n",
       "<style scoped>\n",
       "    .dataframe tbody tr th:only-of-type {\n",
       "        vertical-align: middle;\n",
       "    }\n",
       "\n",
       "    .dataframe tbody tr th {\n",
       "        vertical-align: top;\n",
       "    }\n",
       "\n",
       "    .dataframe thead th {\n",
       "        text-align: right;\n",
       "    }\n",
       "</style>\n",
       "<table border=\"1\" class=\"dataframe\">\n",
       "  <thead>\n",
       "    <tr style=\"text-align: right;\">\n",
       "      <th></th>\n",
       "      <th>Nation</th>\n",
       "      <th>Year</th>\n",
       "      <th>Total CO2 emissions from fossil-fuels and cement production (thousand metric tons of C)</th>\n",
       "      <th>Emissions from solid fuel consumption</th>\n",
       "      <th>Emissions from liquid fuel consumption</th>\n",
       "      <th>Emissions from gas fuel consumption</th>\n",
       "      <th>Emissions from cement production</th>\n",
       "      <th>Emissions from gas flaring</th>\n",
       "      <th>Per capita CO2 emissions (metric tons of carbon)</th>\n",
       "      <th>Emissions from bunker fuels (not included in the totals)</th>\n",
       "    </tr>\n",
       "  </thead>\n",
       "  <tbody>\n",
       "    <tr>\n",
       "      <th>17504</th>\n",
       "      <td>UNITED KINGDOM</td>\n",
       "      <td>1751</td>\n",
       "      <td>2552</td>\n",
       "      <td>2552.0</td>\n",
       "      <td>0.0</td>\n",
       "      <td>0.0</td>\n",
       "      <td>0.0</td>\n",
       "      <td>NaN</td>\n",
       "      <td>NaN</td>\n",
       "      <td>0.0</td>\n",
       "    </tr>\n",
       "  </tbody>\n",
       "</table>\n",
       "</div>"
      ],
      "text/plain": [
       "               Nation  Year  \\\n",
       "17504  UNITED KINGDOM  1751   \n",
       "\n",
       "       Total CO2 emissions from fossil-fuels and cement production (thousand metric tons of C)  \\\n",
       "17504                                               2552                                         \n",
       "\n",
       "       Emissions from solid fuel consumption  \\\n",
       "17504                                 2552.0   \n",
       "\n",
       "       Emissions from liquid fuel consumption  \\\n",
       "17504                                     0.0   \n",
       "\n",
       "       Emissions from gas fuel consumption  Emissions from cement production  \\\n",
       "17504                                  0.0                               0.0   \n",
       "\n",
       "       Emissions from gas flaring  \\\n",
       "17504                         NaN   \n",
       "\n",
       "       Per capita CO2 emissions (metric tons of carbon)  \\\n",
       "17504                                               NaN   \n",
       "\n",
       "       Emissions from bunker fuels (not included in the totals)  \n",
       "17504                                                0.0         "
      ]
     },
     "execution_count": 14,
     "metadata": {},
     "output_type": "execute_result"
    }
   ],
   "source": [
    "wrld[wrld['Year'] == 1751]"
   ]
  },
  {
   "cell_type": "code",
   "execution_count": 15,
   "id": "01401136",
   "metadata": {},
   "outputs": [],
   "source": [
    "col_list = ['Emissions from solid fuel consumption', 'Emissions from liquid fuel consumption', 'Emissions from gas fuel consumption', 'Emissions from cement production', 'Emissions from gas flaring', 'Emissions from bunker fuels (not included in the totals)']\n",
    "wrld['sumation'] = wrld[col_list].sum(axis=1, numeric_only=True)\n",
    "wrld['total_equals_sum'] = wrld['sumation'] == wrld['Total CO2 emissions from fossil-fuels and cement production (thousand metric tons of C)']"
   ]
  },
  {
   "cell_type": "code",
   "execution_count": 16,
   "id": "d27ee3ea",
   "metadata": {},
   "outputs": [
    {
     "data": {
      "text/html": [
       "<div>\n",
       "<style scoped>\n",
       "    .dataframe tbody tr th:only-of-type {\n",
       "        vertical-align: middle;\n",
       "    }\n",
       "\n",
       "    .dataframe tbody tr th {\n",
       "        vertical-align: top;\n",
       "    }\n",
       "\n",
       "    .dataframe thead th {\n",
       "        text-align: right;\n",
       "    }\n",
       "</style>\n",
       "<table border=\"1\" class=\"dataframe\">\n",
       "  <thead>\n",
       "    <tr style=\"text-align: right;\">\n",
       "      <th></th>\n",
       "      <th>Nation</th>\n",
       "      <th>Year</th>\n",
       "      <th>Total CO2 emissions from fossil-fuels and cement production (thousand metric tons of C)</th>\n",
       "      <th>Emissions from solid fuel consumption</th>\n",
       "      <th>Emissions from liquid fuel consumption</th>\n",
       "      <th>Emissions from gas fuel consumption</th>\n",
       "      <th>Emissions from cement production</th>\n",
       "      <th>Emissions from gas flaring</th>\n",
       "      <th>Per capita CO2 emissions (metric tons of carbon)</th>\n",
       "      <th>Emissions from bunker fuels (not included in the totals)</th>\n",
       "      <th>sumation</th>\n",
       "      <th>total_equals_sum</th>\n",
       "    </tr>\n",
       "  </thead>\n",
       "  <tbody>\n",
       "    <tr>\n",
       "      <th>0</th>\n",
       "      <td>AFGHANISTAN</td>\n",
       "      <td>1949</td>\n",
       "      <td>4</td>\n",
       "      <td>4.0</td>\n",
       "      <td>0.0</td>\n",
       "      <td>0.0</td>\n",
       "      <td>0.0</td>\n",
       "      <td>NaN</td>\n",
       "      <td>NaN</td>\n",
       "      <td>0.0</td>\n",
       "      <td>4.0</td>\n",
       "      <td>True</td>\n",
       "    </tr>\n",
       "    <tr>\n",
       "      <th>1</th>\n",
       "      <td>AFGHANISTAN</td>\n",
       "      <td>1950</td>\n",
       "      <td>23</td>\n",
       "      <td>6.0</td>\n",
       "      <td>18.0</td>\n",
       "      <td>0.0</td>\n",
       "      <td>0.0</td>\n",
       "      <td>NaN</td>\n",
       "      <td>0.003025</td>\n",
       "      <td>0.0</td>\n",
       "      <td>24.0</td>\n",
       "      <td>False</td>\n",
       "    </tr>\n",
       "    <tr>\n",
       "      <th>2</th>\n",
       "      <td>AFGHANISTAN</td>\n",
       "      <td>1951</td>\n",
       "      <td>25</td>\n",
       "      <td>7.0</td>\n",
       "      <td>18.0</td>\n",
       "      <td>0.0</td>\n",
       "      <td>0.0</td>\n",
       "      <td>NaN</td>\n",
       "      <td>0.003172</td>\n",
       "      <td>0.0</td>\n",
       "      <td>25.0</td>\n",
       "      <td>True</td>\n",
       "    </tr>\n",
       "    <tr>\n",
       "      <th>3</th>\n",
       "      <td>AFGHANISTAN</td>\n",
       "      <td>1952</td>\n",
       "      <td>25</td>\n",
       "      <td>9.0</td>\n",
       "      <td>17.0</td>\n",
       "      <td>0.0</td>\n",
       "      <td>0.0</td>\n",
       "      <td>NaN</td>\n",
       "      <td>0.003206</td>\n",
       "      <td>0.0</td>\n",
       "      <td>26.0</td>\n",
       "      <td>False</td>\n",
       "    </tr>\n",
       "    <tr>\n",
       "      <th>4</th>\n",
       "      <td>AFGHANISTAN</td>\n",
       "      <td>1953</td>\n",
       "      <td>29</td>\n",
       "      <td>10.0</td>\n",
       "      <td>18.0</td>\n",
       "      <td>0.0</td>\n",
       "      <td>0.0</td>\n",
       "      <td>NaN</td>\n",
       "      <td>0.003551</td>\n",
       "      <td>0.0</td>\n",
       "      <td>28.0</td>\n",
       "      <td>False</td>\n",
       "    </tr>\n",
       "  </tbody>\n",
       "</table>\n",
       "</div>"
      ],
      "text/plain": [
       "        Nation  Year  \\\n",
       "0  AFGHANISTAN  1949   \n",
       "1  AFGHANISTAN  1950   \n",
       "2  AFGHANISTAN  1951   \n",
       "3  AFGHANISTAN  1952   \n",
       "4  AFGHANISTAN  1953   \n",
       "\n",
       "   Total CO2 emissions from fossil-fuels and cement production (thousand metric tons of C)  \\\n",
       "0                                                  4                                         \n",
       "1                                                 23                                         \n",
       "2                                                 25                                         \n",
       "3                                                 25                                         \n",
       "4                                                 29                                         \n",
       "\n",
       "   Emissions from solid fuel consumption  \\\n",
       "0                                    4.0   \n",
       "1                                    6.0   \n",
       "2                                    7.0   \n",
       "3                                    9.0   \n",
       "4                                   10.0   \n",
       "\n",
       "   Emissions from liquid fuel consumption  \\\n",
       "0                                     0.0   \n",
       "1                                    18.0   \n",
       "2                                    18.0   \n",
       "3                                    17.0   \n",
       "4                                    18.0   \n",
       "\n",
       "   Emissions from gas fuel consumption  Emissions from cement production  \\\n",
       "0                                  0.0                               0.0   \n",
       "1                                  0.0                               0.0   \n",
       "2                                  0.0                               0.0   \n",
       "3                                  0.0                               0.0   \n",
       "4                                  0.0                               0.0   \n",
       "\n",
       "   Emissions from gas flaring  \\\n",
       "0                         NaN   \n",
       "1                         NaN   \n",
       "2                         NaN   \n",
       "3                         NaN   \n",
       "4                         NaN   \n",
       "\n",
       "   Per capita CO2 emissions (metric tons of carbon)  \\\n",
       "0                                               NaN   \n",
       "1                                          0.003025   \n",
       "2                                          0.003172   \n",
       "3                                          0.003206   \n",
       "4                                          0.003551   \n",
       "\n",
       "   Emissions from bunker fuels (not included in the totals)  sumation  \\\n",
       "0                                                0.0              4.0   \n",
       "1                                                0.0             24.0   \n",
       "2                                                0.0             25.0   \n",
       "3                                                0.0             26.0   \n",
       "4                                                0.0             28.0   \n",
       "\n",
       "   total_equals_sum  \n",
       "0              True  \n",
       "1             False  \n",
       "2              True  \n",
       "3             False  \n",
       "4             False  "
      ]
     },
     "execution_count": 16,
     "metadata": {},
     "output_type": "execute_result"
    }
   ],
   "source": [
    "wrld.head()"
   ]
  },
  {
   "cell_type": "code",
   "execution_count": 17,
   "id": "4736f78a",
   "metadata": {},
   "outputs": [
    {
     "data": {
      "text/plain": [
       "total_equals_sum\n",
       "False    12163\n",
       "True      6828\n",
       "Name: count, dtype: int64"
      ]
     },
     "execution_count": 17,
     "metadata": {},
     "output_type": "execute_result"
    }
   ],
   "source": [
    "wrld.total_equals_sum.value_counts()"
   ]
  },
  {
   "cell_type": "code",
   "execution_count": 18,
   "id": "bb1888b6",
   "metadata": {},
   "outputs": [],
   "source": [
    "nation_lst = []\n",
    "for nation in wrld['Nation'].unique():\n",
    "    subset = wrld[(wrld['Year'] == 2020) & (wrld['Nation'] == str(nation))]\n",
    "    if not subset.empty:\n",
    "        nation_lst.append(wrld.Nation)"
   ]
  },
  {
   "cell_type": "code",
   "execution_count": 19,
   "id": "cdf3042c",
   "metadata": {},
   "outputs": [],
   "source": [
    "nation_lst = wrld[wrld['Year'] == 2020]['Nation'].unique().tolist()"
   ]
  },
  {
   "cell_type": "code",
   "execution_count": 20,
   "id": "e87e1f5a",
   "metadata": {},
   "outputs": [
    {
     "data": {
      "text/plain": [
       "259"
      ]
     },
     "execution_count": 20,
     "metadata": {},
     "output_type": "execute_result"
    }
   ],
   "source": [
    "len(wrld['Nation'].unique())"
   ]
  },
  {
   "cell_type": "code",
   "execution_count": 21,
   "id": "f4049a79",
   "metadata": {},
   "outputs": [
    {
     "data": {
      "text/plain": [
       "222"
      ]
     },
     "execution_count": 21,
     "metadata": {},
     "output_type": "execute_result"
    }
   ],
   "source": [
    "len(nation_lst)"
   ]
  },
  {
   "cell_type": "markdown",
   "id": "8e5f833c",
   "metadata": {},
   "source": [
    "## ML"
   ]
  },
  {
   "cell_type": "code",
   "execution_count": 22,
   "id": "9bca286c",
   "metadata": {},
   "outputs": [],
   "source": [
    "def preprocessing(wrld):\n",
    "    '''pick those countries for training where count is more than 40'''\n",
    "    mjr_nations = wrld['Nation'].value_counts()\n",
    "    mjr_nations = mjr_nations[mjr_nations >= 40].index\n",
    "    filtered_wrld = wrld[wrld['Nation'].isin(mjr_nations)].copy()\n",
    "\n",
    "    # sort data\n",
    "    filtered_wrld = filtered_wrld.sort_values(['Nation', 'Year'])\n",
    "\n",
    "    # shift co2 emission to use as target\n",
    "    filtered_wrld['target'] = filtered_wrld.groupby('Nation')['sumation'].shift(-1)\n",
    "\n",
    "    # drop rows with missing targets\n",
    "    filtered_wrld = filtered_wrld.dropna(subset=['target'])\n",
    "\n",
    "    return filtered_wrld\n",
    "\n",
    "op = preprocessing(wrld)"
   ]
  },
  {
   "cell_type": "code",
   "execution_count": 23,
   "id": "a73b67e7",
   "metadata": {},
   "outputs": [],
   "source": [
    "def feature_selection(wrld):\n",
    "    features_lst = ['Emissions from solid fuel consumption', 'Emissions from liquid fuel consumption', 'Emissions from gas fuel consumption', 'Emissions from cement production', 'Emissions from gas flaring', 'Emissions from bunker fuels (not included in the totals)', 'Year', 'Nation']\n",
    "\n",
    "    x = wrld[features_lst]\n",
    "    y = wrld['target']\n",
    "\n",
    "    return x, y\n"
   ]
  },
  {
   "cell_type": "code",
   "execution_count": 24,
   "id": "556b0e8a",
   "metadata": {},
   "outputs": [],
   "source": [
    "x, y = feature_selection(op)"
   ]
  },
  {
   "cell_type": "code",
   "execution_count": 25,
   "id": "7072dd7a",
   "metadata": {},
   "outputs": [
    {
     "data": {
      "text/html": [
       "<div>\n",
       "<style scoped>\n",
       "    .dataframe tbody tr th:only-of-type {\n",
       "        vertical-align: middle;\n",
       "    }\n",
       "\n",
       "    .dataframe tbody tr th {\n",
       "        vertical-align: top;\n",
       "    }\n",
       "\n",
       "    .dataframe thead th {\n",
       "        text-align: right;\n",
       "    }\n",
       "</style>\n",
       "<table border=\"1\" class=\"dataframe\">\n",
       "  <thead>\n",
       "    <tr style=\"text-align: right;\">\n",
       "      <th></th>\n",
       "      <th>Emissions from solid fuel consumption</th>\n",
       "      <th>Emissions from liquid fuel consumption</th>\n",
       "      <th>Emissions from gas fuel consumption</th>\n",
       "      <th>Emissions from cement production</th>\n",
       "      <th>Emissions from gas flaring</th>\n",
       "      <th>Emissions from bunker fuels (not included in the totals)</th>\n",
       "      <th>Year</th>\n",
       "      <th>Nation</th>\n",
       "    </tr>\n",
       "  </thead>\n",
       "  <tbody>\n",
       "    <tr>\n",
       "      <th>0</th>\n",
       "      <td>4.0</td>\n",
       "      <td>0.0</td>\n",
       "      <td>0.0</td>\n",
       "      <td>0.0</td>\n",
       "      <td>NaN</td>\n",
       "      <td>0.0</td>\n",
       "      <td>1949</td>\n",
       "      <td>AFGHANISTAN</td>\n",
       "    </tr>\n",
       "    <tr>\n",
       "      <th>1</th>\n",
       "      <td>6.0</td>\n",
       "      <td>18.0</td>\n",
       "      <td>0.0</td>\n",
       "      <td>0.0</td>\n",
       "      <td>NaN</td>\n",
       "      <td>0.0</td>\n",
       "      <td>1950</td>\n",
       "      <td>AFGHANISTAN</td>\n",
       "    </tr>\n",
       "    <tr>\n",
       "      <th>2</th>\n",
       "      <td>7.0</td>\n",
       "      <td>18.0</td>\n",
       "      <td>0.0</td>\n",
       "      <td>0.0</td>\n",
       "      <td>NaN</td>\n",
       "      <td>0.0</td>\n",
       "      <td>1951</td>\n",
       "      <td>AFGHANISTAN</td>\n",
       "    </tr>\n",
       "    <tr>\n",
       "      <th>3</th>\n",
       "      <td>9.0</td>\n",
       "      <td>17.0</td>\n",
       "      <td>0.0</td>\n",
       "      <td>0.0</td>\n",
       "      <td>NaN</td>\n",
       "      <td>0.0</td>\n",
       "      <td>1952</td>\n",
       "      <td>AFGHANISTAN</td>\n",
       "    </tr>\n",
       "    <tr>\n",
       "      <th>4</th>\n",
       "      <td>10.0</td>\n",
       "      <td>18.0</td>\n",
       "      <td>0.0</td>\n",
       "      <td>0.0</td>\n",
       "      <td>NaN</td>\n",
       "      <td>0.0</td>\n",
       "      <td>1953</td>\n",
       "      <td>AFGHANISTAN</td>\n",
       "    </tr>\n",
       "  </tbody>\n",
       "</table>\n",
       "</div>"
      ],
      "text/plain": [
       "   Emissions from solid fuel consumption  \\\n",
       "0                                    4.0   \n",
       "1                                    6.0   \n",
       "2                                    7.0   \n",
       "3                                    9.0   \n",
       "4                                   10.0   \n",
       "\n",
       "   Emissions from liquid fuel consumption  \\\n",
       "0                                     0.0   \n",
       "1                                    18.0   \n",
       "2                                    18.0   \n",
       "3                                    17.0   \n",
       "4                                    18.0   \n",
       "\n",
       "   Emissions from gas fuel consumption  Emissions from cement production  \\\n",
       "0                                  0.0                               0.0   \n",
       "1                                  0.0                               0.0   \n",
       "2                                  0.0                               0.0   \n",
       "3                                  0.0                               0.0   \n",
       "4                                  0.0                               0.0   \n",
       "\n",
       "   Emissions from gas flaring  \\\n",
       "0                         NaN   \n",
       "1                         NaN   \n",
       "2                         NaN   \n",
       "3                         NaN   \n",
       "4                         NaN   \n",
       "\n",
       "   Emissions from bunker fuels (not included in the totals)  Year       Nation  \n",
       "0                                                0.0         1949  AFGHANISTAN  \n",
       "1                                                0.0         1950  AFGHANISTAN  \n",
       "2                                                0.0         1951  AFGHANISTAN  \n",
       "3                                                0.0         1952  AFGHANISTAN  \n",
       "4                                                0.0         1953  AFGHANISTAN  "
      ]
     },
     "execution_count": 25,
     "metadata": {},
     "output_type": "execute_result"
    }
   ],
   "source": [
    "x.head()"
   ]
  },
  {
   "cell_type": "code",
   "execution_count": 26,
   "id": "d15997b0",
   "metadata": {},
   "outputs": [
    {
     "data": {
      "text/plain": [
       "((17162, 8), (17162,))"
      ]
     },
     "execution_count": 26,
     "metadata": {},
     "output_type": "execute_result"
    }
   ],
   "source": [
    "x.shape, y.shape"
   ]
  },
  {
   "cell_type": "code",
   "execution_count": 27,
   "id": "021fe32e",
   "metadata": {},
   "outputs": [
    {
     "name": "stdout",
     "output_type": "stream",
     "text": [
      "MAE on >= 2020: 1836.16\n",
      "MAPE on >= 2020: 4.48%\n"
     ]
    }
   ],
   "source": [
    "# one-hot encoding\n",
    "x_encoded = pd.get_dummies(x, columns=['Nation'])\n",
    "\n",
    "# split\n",
    "x_train = x_encoded[x['Year'] < 2021]\n",
    "y_train = y[x['Year'] < 2021]\n",
    "x_val = x_encoded[x['Year'] >= 2020]\n",
    "y_val = y[x['Year'] >= 2020]\n",
    "\n",
    "mdl = RandomForestRegressor(n_estimators=100, random_state=42)\n",
    "mdl.fit(x_train, y_train)\n",
    "\n",
    "preds = mdl.predict(x_val)\n",
    "mae = mean_absolute_error(y_val, preds)\n",
    "mape = mean_absolute_percentage_error(y_val, preds)\n",
    "print(f'MAE on >= 2020: {mae:.2f}')\n",
    "print(f'MAPE on >= 2020: {mape * 100:.2f}%')\n"
   ]
  },
  {
   "cell_type": "code",
   "execution_count": 28,
   "id": "fdbaabe3",
   "metadata": {},
   "outputs": [
    {
     "data": {
      "text/plain": [
       "['rf_co2_mdl.pkl']"
      ]
     },
     "execution_count": 28,
     "metadata": {},
     "output_type": "execute_result"
    }
   ],
   "source": [
    "joblib.dump(mdl, 'rf_co2_mdl.pkl')"
   ]
  },
  {
   "cell_type": "code",
   "execution_count": null,
   "id": "2d94d107",
   "metadata": {},
   "outputs": [],
   "source": []
  }
 ],
 "metadata": {
  "kernelspec": {
   "display_name": "plotly_venv",
   "language": "python",
   "name": "python3"
  },
  "language_info": {
   "codemirror_mode": {
    "name": "ipython",
    "version": 3
   },
   "file_extension": ".py",
   "mimetype": "text/x-python",
   "name": "python",
   "nbconvert_exporter": "python",
   "pygments_lexer": "ipython3",
   "version": "3.12.9"
  }
 },
 "nbformat": 4,
 "nbformat_minor": 5
}
