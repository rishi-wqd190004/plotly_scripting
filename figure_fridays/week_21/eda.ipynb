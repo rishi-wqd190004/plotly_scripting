{
 "cells": [
  {
   "cell_type": "code",
   "execution_count": 1,
   "id": "6282455e",
   "metadata": {},
   "outputs": [],
   "source": [
    "import pandas as pd"
   ]
  },
  {
   "cell_type": "code",
   "execution_count": 2,
   "id": "fe18d417",
   "metadata": {},
   "outputs": [
    {
     "name": "stdout",
     "output_type": "stream",
     "text": [
      "   Year  \\\n",
      "0  1751   \n",
      "1  1752   \n",
      "2  1753   \n",
      "3  1754   \n",
      "4  1755   \n",
      "\n",
      "   Total carbon emissions from fossil fuel consumption and cement production (million metric tons of C)  \\\n",
      "0                                                  3                                                      \n",
      "1                                                  3                                                      \n",
      "2                                                  3                                                      \n",
      "3                                                  3                                                      \n",
      "4                                                  3                                                      \n",
      "\n",
      "   Carbon emissions from solid fuel consumption  \\\n",
      "0                                             3   \n",
      "1                                             3   \n",
      "2                                             3   \n",
      "3                                             3   \n",
      "4                                             3   \n",
      "\n",
      "   Carbon emissions from liquid fuel consumption  \\\n",
      "0                                              0   \n",
      "1                                              0   \n",
      "2                                              0   \n",
      "3                                              0   \n",
      "4                                              0   \n",
      "\n",
      "   Carbon emissions from gas fuel consumption  \\\n",
      "0                                           0   \n",
      "1                                           0   \n",
      "2                                           0   \n",
      "3                                           0   \n",
      "4                                           0   \n",
      "\n",
      "   Carbon emissions from cement production  Carbon emissions from gas flaring  \\\n",
      "0                                        0                                  0   \n",
      "1                                        0                                  0   \n",
      "2                                        0                                  0   \n",
      "3                                        0                                  0   \n",
      "4                                        0                                  0   \n",
      "\n",
      "   Per capita carbon emissions (metric tons of carbon; after 1949 only)  \n",
      "0                                                NaN                     \n",
      "1                                                NaN                     \n",
      "2                                                NaN                     \n",
      "3                                                NaN                     \n",
      "4                                                NaN                     \n"
     ]
    }
   ],
   "source": [
    "glbl = pd.read_csv('../datasets_all/global.1751_2021.csv')\n",
    "print(glbl.head())"
   ]
  },
  {
   "cell_type": "code",
   "execution_count": 3,
   "id": "b8ecf7b9",
   "metadata": {},
   "outputs": [
    {
     "data": {
      "text/plain": [
       "(271, 8)"
      ]
     },
     "execution_count": 3,
     "metadata": {},
     "output_type": "execute_result"
    }
   ],
   "source": [
    "glbl.shape"
   ]
  },
  {
   "cell_type": "code",
   "execution_count": 6,
   "id": "f78fe280",
   "metadata": {},
   "outputs": [],
   "source": [
    "wrld = pd.read_excel('../datasets_all/nation.1751_2021.xlsx', engine='openpyxl')"
   ]
  },
  {
   "cell_type": "code",
   "execution_count": 17,
   "id": "ee72f0e0",
   "metadata": {},
   "outputs": [
    {
     "data": {
      "text/plain": [
       "(18991, 10)"
      ]
     },
     "execution_count": 17,
     "metadata": {},
     "output_type": "execute_result"
    }
   ],
   "source": [
    "wrld.shape"
   ]
  },
  {
   "cell_type": "code",
   "execution_count": 20,
   "id": "3808f807",
   "metadata": {},
   "outputs": [
    {
     "name": "stdout",
     "output_type": "stream",
     "text": [
      "<class 'pandas.core.frame.DataFrame'>\n",
      "RangeIndex: 18991 entries, 0 to 18990\n",
      "Data columns (total 10 columns):\n",
      " #   Column                                                                                   Non-Null Count  Dtype  \n",
      "---  ------                                                                                   --------------  -----  \n",
      " 0   Nation                                                                                   18991 non-null  object \n",
      " 1   Year                                                                                     18991 non-null  int64  \n",
      " 2   Total CO2 emissions from fossil-fuels and cement production (thousand metric tons of C)  18991 non-null  int64  \n",
      " 3   Emissions from solid fuel consumption                                                    13209 non-null  float64\n",
      " 4   Emissions from liquid fuel consumption                                                   18366 non-null  float64\n",
      " 5   Emissions from gas fuel consumption                                                      10742 non-null  float64\n",
      " 6   Emissions from cement production                                                         18415 non-null  float64\n",
      " 7   Emissions from gas flaring                                                               2921 non-null   float64\n",
      " 8   Per capita CO2 emissions (metric tons of carbon)                                         13466 non-null  float64\n",
      " 9   Emissions from bunker fuels (not included in the totals)                                 18698 non-null  float64\n",
      "dtypes: float64(7), int64(2), object(1)\n",
      "memory usage: 1.4+ MB\n"
     ]
    }
   ],
   "source": [
    "wrld.info()"
   ]
  },
  {
   "cell_type": "code",
   "execution_count": 22,
   "id": "2ee9388d",
   "metadata": {},
   "outputs": [
    {
     "data": {
      "text/plain": [
       "array(['AFGHANISTAN', 'ALBANIA', 'ALGERIA', 'ANDORRA', 'ANGOLA',\n",
       "       'ANGUILLA', 'ANTARCTIC FISHERIES', 'ANTIGUA & BARBUDA',\n",
       "       'ARGENTINA', 'ARMENIA', 'ARUBA', 'AUSTRALIA', 'AUSTRIA',\n",
       "       'AZERBAIJAN', 'BAHAMAS', 'BAHRAIN', 'BANGLADESH', 'BARBADOS',\n",
       "       'BELARUS', 'BELGIUM', 'BELIZE', 'BENIN', 'BERMUDA', 'BHUTAN',\n",
       "       'BONAIRE, SAINT EUSTATIUS, AND SABA', 'BOSNIA & HERZEGOVINA',\n",
       "       'BOTSWANA', 'BRAZIL', 'BRITISH VIRGIN ISLANDS',\n",
       "       'BRUNEI (DARUSSALAM)', 'BULGARIA', 'BURKINA FASO', 'BURUNDI',\n",
       "       'CAMBODIA', 'CANADA', 'CAPE VERDE', 'CAYMAN ISLANDS',\n",
       "       'CENTRAL AFRICAN REPUBLIC', 'CHAD', 'CHILE', 'CHINA (MAINLAND)',\n",
       "       'CHRISTMAS ISLAND', 'COLOMBIA', 'COMOROS', 'CONGO', 'COOK ISLANDS',\n",
       "       'COSTA RICA', 'COTE D IVOIRE', 'CROATIA', 'CUBA', 'CURACAO',\n",
       "       'CYPRUS', 'CZECH REPUBLIC', 'CZECHOSLOVAKIA',\n",
       "       'DEMOCRATIC PEOPLE S REPUBLIC OF KOREA',\n",
       "       'DEMOCRATIC REPUBLIC OF THE CONGO (FORMERLY ZAIRE)',\n",
       "       'DEMOCRATIC REPUBLIC OF VIETNAM', 'DENMARK', 'DJIBOUTI',\n",
       "       'DOMINICA', 'DOMINICAN REPUBLIC', 'EAST & WEST PAKISTAN',\n",
       "       'ECUADOR', 'EGYPT', 'EL SALVADOR', 'EQUATORIAL GUINEA', 'ERITREA',\n",
       "       'ESTONIA', 'ETHIOPIA', 'FAEROE ISLANDS',\n",
       "       'FALKLAND ISLANDS (MALVINAS)', 'FEDERAL REPUBLIC OF GERMANY',\n",
       "       'FEDERATED STATES OF MICRONESIA', 'FEDERATION OF MALAYA-SINGAPORE',\n",
       "       'FIJI', 'FINLAND', 'FORMER DEMOCRATIC YEMEN',\n",
       "       'FORMER GERMAN DEMOCRATIC REPUBLIC', 'FORMER PANAMA CANAL ZONE',\n",
       "       'FORMER YEMEN', 'FRANCE (INCLUDING MONACO)',\n",
       "       'FRENCH EQUATORIAL AFRICA', 'FRENCH GUIANA', 'FRENCH INDO-CHINA',\n",
       "       'FRENCH POLYNESIA', 'FRENCH WEST AFRICA', 'GABON', 'GAMBIA',\n",
       "       'GEORGIA', 'GERMANY', 'GHANA', 'GIBRALTAR', 'GREECE', 'GREENLAND',\n",
       "       'GRENADA', 'GUADELOUPE', 'GUATEMALA', 'GUINEA', 'GUINEA BISSAU',\n",
       "       'GUYANA', 'HAITI', 'HONDURAS',\n",
       "       'HONG KONG SPECIAL ADMINSTRATIVE REGION OF CHINA', 'HUNGARY',\n",
       "       'ICELAND', 'INDIA', 'INDONESIA', 'IRAQ', 'IRELAND',\n",
       "       'ISLAMIC REPUBLIC OF IRAN', 'ISLE OF MAN', 'ISRAEL',\n",
       "       'ITALY (INCLUDING SAN MARINO)', 'JAMAICA', 'JAPAN',\n",
       "       'JAPAN (EXCLUDING THE RUYUKU ISLANDS)', 'JORDAN', 'KAZAKHSTAN',\n",
       "       'KENYA', 'KIRIBATI', 'KOSOVO', 'KUWAIT', 'KUWAITI OIL FIRES',\n",
       "       'KYRGYZSTAN', 'LAO PEOPLE S DEMOCRATIC REPUBLIC', 'LATVIA',\n",
       "       'LEBANON', 'LEEWARD ISLANDS', 'LESOTHO', 'LIBERIA',\n",
       "       'LIBYAN ARAB JAMAHIRIYAH', 'LIECHTENSTEIN', 'LITHUANIA',\n",
       "       'LUXEMBOURG', 'MACAU SPECIAL ADMINSTRATIVE REGION OF CHINA',\n",
       "       'MACEDONIA', 'MADAGASCAR', 'MALAWI', 'MALAYSIA', 'MALDIVES',\n",
       "       'MALI', 'MALTA', 'MARSHALL ISLANDS', 'MARTINIQUE', 'MAURITANIA',\n",
       "       'MAURITIUS', 'MAYOTTE', 'MEXICO', 'MONGOLIA', 'MONTENEGRO',\n",
       "       'MONTSERRAT', 'MOROCCO', 'MOZAMBIQUE', 'MYANMAR (FORMERLY BURMA)',\n",
       "       'NAMIBIA', 'NAURU', 'NEPAL', 'NETHERLAND ANTILLES',\n",
       "       'NETHERLAND ANTILLES AND ARUBA', 'NETHERLANDS', 'NEW CALEDONIA',\n",
       "       'NEW ZEALAND', 'NICARAGUA', 'NIGER', 'NIGERIA', 'NIUE', 'NORWAY',\n",
       "       'OCCUPIED PALESTINIAN TERRITORY', 'OMAN',\n",
       "       'PACIFIC ISLANDS (PALAU)', 'PAKISTAN', 'PALAU', 'PANAMA',\n",
       "       'PAPUA NEW GUINEA', 'PARAGUAY', 'PENINSULAR MALAYSIA', 'PERU',\n",
       "       'PHILIPPINES', 'PLURINATIONAL STATE OF BOLIVIA', 'POLAND',\n",
       "       'PORTUGAL', 'PUERTO RICO', 'QATAR', 'REPUBLIC OF CAMEROON',\n",
       "       'REPUBLIC OF KOREA', 'REPUBLIC OF MOLDOVA',\n",
       "       'REPUBLIC OF SOUTH SUDAN', 'REPUBLIC OF SOUTH VIETNAM',\n",
       "       'REPUBLIC OF SUDAN', 'REUNION', 'RHODESIA-NYASALAND', 'ROMANIA',\n",
       "       'RUSSIAN FEDERATION', 'RWANDA', 'RWANDA-URUNDI', 'RYUKYU ISLANDS',\n",
       "       'SABAH', 'SAINT HELENA', 'SAINT LUCIA',\n",
       "       'SAINT MARTIN (DUTCH PORTION)', 'SAMOA', 'SAO TOME & PRINCIPE',\n",
       "       'SARAWAK', 'SAUDI ARABIA', 'SENEGAL', 'SERBIA', 'SEYCHELLES',\n",
       "       'SIERRA LEONE', 'SINGAPORE', 'SLOVAKIA', 'SLOVENIA',\n",
       "       'SOLOMON ISLANDS', 'SOMALIA', 'SOUTH AFRICA', 'SPAIN', 'SRI LANKA',\n",
       "       'ST. KITTS-NEVIS', 'ST. KITTS-NEVIS-ANGUILLA',\n",
       "       'ST. PIERRE & MIQUELON', 'ST. VINCENT & THE GRENADINES', 'SUDAN',\n",
       "       'SURINAME', 'SWAZILAND', 'SWEDEN', 'SWITZERLAND',\n",
       "       'SYRIAN ARAB REPUBLIC', 'TAIWAN', 'TAJIKISTAN', 'TANGANYIKA',\n",
       "       'THAILAND', 'TIMOR-LESTE (FORMERLY EAST TIMOR)', 'TOGO', 'TONGA',\n",
       "       'TRINIDAD AND TOBAGO', 'TUNISIA', 'TURKEY', 'TURKMENISTAN',\n",
       "       'TURKS AND CAICOS ISLANDS', 'TUVALU', 'UGANDA', 'UKRAINE',\n",
       "       'UNITED ARAB EMIRATES', 'UNITED KINGDOM', 'UNITED KOREA',\n",
       "       'UNITED REPUBLIC OF TANZANIA', 'UNITED STATES OF AMERICA',\n",
       "       'URUGUAY', 'USSR', 'UZBEKISTAN', 'VANUATU', 'VENEZUELA',\n",
       "       'VIET NAM', 'WALLIS AND FUTUNA ISLANDS', 'YEMEN',\n",
       "       'YUGOSLAVIA (FORMER SOCIALIST FEDERAL REPUBLIC)',\n",
       "       'YUGOSLAVIA (MONTENEGRO & SERBIA)', 'ZAMBIA', 'ZANZIBAR',\n",
       "       'ZIMBABWE'], dtype=object)"
      ]
     },
     "execution_count": 22,
     "metadata": {},
     "output_type": "execute_result"
    }
   ],
   "source": [
    "wrld.Nation.unique()"
   ]
  },
  {
   "cell_type": "code",
   "execution_count": 21,
   "id": "033db155",
   "metadata": {},
   "outputs": [
    {
     "data": {
      "text/html": [
       "<div>\n",
       "<style scoped>\n",
       "    .dataframe tbody tr th:only-of-type {\n",
       "        vertical-align: middle;\n",
       "    }\n",
       "\n",
       "    .dataframe tbody tr th {\n",
       "        vertical-align: top;\n",
       "    }\n",
       "\n",
       "    .dataframe thead th {\n",
       "        text-align: right;\n",
       "    }\n",
       "</style>\n",
       "<table border=\"1\" class=\"dataframe\">\n",
       "  <thead>\n",
       "    <tr style=\"text-align: right;\">\n",
       "      <th></th>\n",
       "      <th>Nation</th>\n",
       "      <th>Year</th>\n",
       "      <th>Total CO2 emissions from fossil-fuels and cement production (thousand metric tons of C)</th>\n",
       "      <th>Emissions from solid fuel consumption</th>\n",
       "      <th>Emissions from liquid fuel consumption</th>\n",
       "      <th>Emissions from gas fuel consumption</th>\n",
       "      <th>Emissions from cement production</th>\n",
       "      <th>Emissions from gas flaring</th>\n",
       "      <th>Per capita CO2 emissions (metric tons of carbon)</th>\n",
       "      <th>Emissions from bunker fuels (not included in the totals)</th>\n",
       "    </tr>\n",
       "  </thead>\n",
       "  <tbody>\n",
       "  </tbody>\n",
       "</table>\n",
       "</div>"
      ],
      "text/plain": [
       "Empty DataFrame\n",
       "Columns: [Nation, Year, Total CO2 emissions from fossil-fuels and cement production (thousand metric tons of C), Emissions from solid fuel consumption, Emissions from liquid fuel consumption, Emissions from gas fuel consumption, Emissions from cement production, Emissions from gas flaring, Per capita CO2 emissions (metric tons of carbon), Emissions from bunker fuels (not included in the totals)]\n",
       "Index: []"
      ]
     },
     "execution_count": 21,
     "metadata": {},
     "output_type": "execute_result"
    }
   ],
   "source": [
    "wrld[wrld['Nation'] == 'CHINA']"
   ]
  },
  {
   "cell_type": "code",
   "execution_count": 7,
   "id": "ac4c33ae",
   "metadata": {},
   "outputs": [
    {
     "data": {
      "text/html": [
       "<div>\n",
       "<style scoped>\n",
       "    .dataframe tbody tr th:only-of-type {\n",
       "        vertical-align: middle;\n",
       "    }\n",
       "\n",
       "    .dataframe tbody tr th {\n",
       "        vertical-align: top;\n",
       "    }\n",
       "\n",
       "    .dataframe thead th {\n",
       "        text-align: right;\n",
       "    }\n",
       "</style>\n",
       "<table border=\"1\" class=\"dataframe\">\n",
       "  <thead>\n",
       "    <tr style=\"text-align: right;\">\n",
       "      <th></th>\n",
       "      <th>Nation</th>\n",
       "      <th>Year</th>\n",
       "      <th>Total CO2 emissions from fossil-fuels and cement production (thousand metric tons of C)</th>\n",
       "      <th>Emissions from solid fuel consumption</th>\n",
       "      <th>Emissions from liquid fuel consumption</th>\n",
       "      <th>Emissions from gas fuel consumption</th>\n",
       "      <th>Emissions from cement production</th>\n",
       "      <th>Emissions from gas flaring</th>\n",
       "      <th>Per capita CO2 emissions (metric tons of carbon)</th>\n",
       "      <th>Emissions from bunker fuels (not included in the totals)</th>\n",
       "    </tr>\n",
       "  </thead>\n",
       "  <tbody>\n",
       "    <tr>\n",
       "      <th>0</th>\n",
       "      <td>AFGHANISTAN</td>\n",
       "      <td>1949</td>\n",
       "      <td>4</td>\n",
       "      <td>4.0</td>\n",
       "      <td>0.0</td>\n",
       "      <td>0.0</td>\n",
       "      <td>0.0</td>\n",
       "      <td>NaN</td>\n",
       "      <td>NaN</td>\n",
       "      <td>0.0</td>\n",
       "    </tr>\n",
       "    <tr>\n",
       "      <th>1</th>\n",
       "      <td>AFGHANISTAN</td>\n",
       "      <td>1950</td>\n",
       "      <td>23</td>\n",
       "      <td>6.0</td>\n",
       "      <td>18.0</td>\n",
       "      <td>0.0</td>\n",
       "      <td>0.0</td>\n",
       "      <td>NaN</td>\n",
       "      <td>0.003025</td>\n",
       "      <td>0.0</td>\n",
       "    </tr>\n",
       "    <tr>\n",
       "      <th>2</th>\n",
       "      <td>AFGHANISTAN</td>\n",
       "      <td>1951</td>\n",
       "      <td>25</td>\n",
       "      <td>7.0</td>\n",
       "      <td>18.0</td>\n",
       "      <td>0.0</td>\n",
       "      <td>0.0</td>\n",
       "      <td>NaN</td>\n",
       "      <td>0.003172</td>\n",
       "      <td>0.0</td>\n",
       "    </tr>\n",
       "    <tr>\n",
       "      <th>3</th>\n",
       "      <td>AFGHANISTAN</td>\n",
       "      <td>1952</td>\n",
       "      <td>25</td>\n",
       "      <td>9.0</td>\n",
       "      <td>17.0</td>\n",
       "      <td>0.0</td>\n",
       "      <td>0.0</td>\n",
       "      <td>NaN</td>\n",
       "      <td>0.003206</td>\n",
       "      <td>0.0</td>\n",
       "    </tr>\n",
       "    <tr>\n",
       "      <th>4</th>\n",
       "      <td>AFGHANISTAN</td>\n",
       "      <td>1953</td>\n",
       "      <td>29</td>\n",
       "      <td>10.0</td>\n",
       "      <td>18.0</td>\n",
       "      <td>0.0</td>\n",
       "      <td>0.0</td>\n",
       "      <td>NaN</td>\n",
       "      <td>0.003551</td>\n",
       "      <td>0.0</td>\n",
       "    </tr>\n",
       "  </tbody>\n",
       "</table>\n",
       "</div>"
      ],
      "text/plain": [
       "        Nation  Year  \\\n",
       "0  AFGHANISTAN  1949   \n",
       "1  AFGHANISTAN  1950   \n",
       "2  AFGHANISTAN  1951   \n",
       "3  AFGHANISTAN  1952   \n",
       "4  AFGHANISTAN  1953   \n",
       "\n",
       "   Total CO2 emissions from fossil-fuels and cement production (thousand metric tons of C)  \\\n",
       "0                                                  4                                         \n",
       "1                                                 23                                         \n",
       "2                                                 25                                         \n",
       "3                                                 25                                         \n",
       "4                                                 29                                         \n",
       "\n",
       "   Emissions from solid fuel consumption  \\\n",
       "0                                    4.0   \n",
       "1                                    6.0   \n",
       "2                                    7.0   \n",
       "3                                    9.0   \n",
       "4                                   10.0   \n",
       "\n",
       "   Emissions from liquid fuel consumption  \\\n",
       "0                                     0.0   \n",
       "1                                    18.0   \n",
       "2                                    18.0   \n",
       "3                                    17.0   \n",
       "4                                    18.0   \n",
       "\n",
       "   Emissions from gas fuel consumption  Emissions from cement production  \\\n",
       "0                                  0.0                               0.0   \n",
       "1                                  0.0                               0.0   \n",
       "2                                  0.0                               0.0   \n",
       "3                                  0.0                               0.0   \n",
       "4                                  0.0                               0.0   \n",
       "\n",
       "   Emissions from gas flaring  \\\n",
       "0                         NaN   \n",
       "1                         NaN   \n",
       "2                         NaN   \n",
       "3                         NaN   \n",
       "4                         NaN   \n",
       "\n",
       "   Per capita CO2 emissions (metric tons of carbon)  \\\n",
       "0                                               NaN   \n",
       "1                                          0.003025   \n",
       "2                                          0.003172   \n",
       "3                                          0.003206   \n",
       "4                                          0.003551   \n",
       "\n",
       "   Emissions from bunker fuels (not included in the totals)  \n",
       "0                                                0.0         \n",
       "1                                                0.0         \n",
       "2                                                0.0         \n",
       "3                                                0.0         \n",
       "4                                                0.0         "
      ]
     },
     "execution_count": 7,
     "metadata": {},
     "output_type": "execute_result"
    }
   ],
   "source": [
    "wrld.head()"
   ]
  },
  {
   "cell_type": "code",
   "execution_count": 16,
   "id": "28204273",
   "metadata": {},
   "outputs": [
    {
     "data": {
      "text/plain": [
       "Nation                                                                                         0\n",
       "Year                                                                                           0\n",
       "Total CO2 emissions from fossil-fuels and cement production (thousand metric tons of C)        0\n",
       "Emissions from solid fuel consumption                                                       5782\n",
       "Emissions from liquid fuel consumption                                                       625\n",
       "Emissions from gas fuel consumption                                                         8249\n",
       "Emissions from cement production                                                             576\n",
       "Emissions from gas flaring                                                                 16070\n",
       "Per capita CO2 emissions (metric tons of carbon)                                            5525\n",
       "Emissions from bunker fuels (not included in the totals)                                     293\n",
       "dtype: int64"
      ]
     },
     "execution_count": 16,
     "metadata": {},
     "output_type": "execute_result"
    }
   ],
   "source": [
    "wrld.isna().sum()"
   ]
  },
  {
   "cell_type": "code",
   "execution_count": 8,
   "id": "0aae58ce",
   "metadata": {},
   "outputs": [
    {
     "data": {
      "text/plain": [
       "Nation\n",
       "UNITED KINGDOM                    271\n",
       "CANADA                            237\n",
       "POLAND                            222\n",
       "UNITED STATES OF AMERICA          222\n",
       "FRANCE (INCLUDING MONACO)         214\n",
       "                                 ... \n",
       "FRENCH WEST AFRICA                  9\n",
       "FEDERATION OF MALAYA-SINGAPORE      7\n",
       "LEEWARD ISLANDS                     7\n",
       "KUWAITI OIL FIRES                   1\n",
       "PUERTO RICO                         1\n",
       "Name: count, Length: 259, dtype: int64"
      ]
     },
     "execution_count": 8,
     "metadata": {},
     "output_type": "execute_result"
    }
   ],
   "source": [
    "wrld.Nation.value_counts()"
   ]
  },
  {
   "cell_type": "code",
   "execution_count": 12,
   "id": "2d9d0dc5",
   "metadata": {},
   "outputs": [],
   "source": [
    "op = wrld[wrld.Nation == 'UNITED KINGDOM']['Year'].value_counts()"
   ]
  },
  {
   "cell_type": "code",
   "execution_count": 18,
   "id": "86eb0829",
   "metadata": {},
   "outputs": [
    {
     "data": {
      "text/plain": [
       "(1751, 2021)"
      ]
     },
     "execution_count": 18,
     "metadata": {},
     "output_type": "execute_result"
    }
   ],
   "source": [
    "wrld['Year'].min(), wrld['Year'].max()"
   ]
  },
  {
   "cell_type": "code",
   "execution_count": 19,
   "id": "56dc2a63",
   "metadata": {},
   "outputs": [
    {
     "data": {
      "text/html": [
       "<div>\n",
       "<style scoped>\n",
       "    .dataframe tbody tr th:only-of-type {\n",
       "        vertical-align: middle;\n",
       "    }\n",
       "\n",
       "    .dataframe tbody tr th {\n",
       "        vertical-align: top;\n",
       "    }\n",
       "\n",
       "    .dataframe thead th {\n",
       "        text-align: right;\n",
       "    }\n",
       "</style>\n",
       "<table border=\"1\" class=\"dataframe\">\n",
       "  <thead>\n",
       "    <tr style=\"text-align: right;\">\n",
       "      <th></th>\n",
       "      <th>Nation</th>\n",
       "      <th>Year</th>\n",
       "      <th>Total CO2 emissions from fossil-fuels and cement production (thousand metric tons of C)</th>\n",
       "      <th>Emissions from solid fuel consumption</th>\n",
       "      <th>Emissions from liquid fuel consumption</th>\n",
       "      <th>Emissions from gas fuel consumption</th>\n",
       "      <th>Emissions from cement production</th>\n",
       "      <th>Emissions from gas flaring</th>\n",
       "      <th>Per capita CO2 emissions (metric tons of carbon)</th>\n",
       "      <th>Emissions from bunker fuels (not included in the totals)</th>\n",
       "    </tr>\n",
       "  </thead>\n",
       "  <tbody>\n",
       "    <tr>\n",
       "      <th>17504</th>\n",
       "      <td>UNITED KINGDOM</td>\n",
       "      <td>1751</td>\n",
       "      <td>2552</td>\n",
       "      <td>2552.0</td>\n",
       "      <td>0.0</td>\n",
       "      <td>0.0</td>\n",
       "      <td>0.0</td>\n",
       "      <td>NaN</td>\n",
       "      <td>NaN</td>\n",
       "      <td>0.0</td>\n",
       "    </tr>\n",
       "  </tbody>\n",
       "</table>\n",
       "</div>"
      ],
      "text/plain": [
       "               Nation  Year  \\\n",
       "17504  UNITED KINGDOM  1751   \n",
       "\n",
       "       Total CO2 emissions from fossil-fuels and cement production (thousand metric tons of C)  \\\n",
       "17504                                               2552                                         \n",
       "\n",
       "       Emissions from solid fuel consumption  \\\n",
       "17504                                 2552.0   \n",
       "\n",
       "       Emissions from liquid fuel consumption  \\\n",
       "17504                                     0.0   \n",
       "\n",
       "       Emissions from gas fuel consumption  Emissions from cement production  \\\n",
       "17504                                  0.0                               0.0   \n",
       "\n",
       "       Emissions from gas flaring  \\\n",
       "17504                         NaN   \n",
       "\n",
       "       Per capita CO2 emissions (metric tons of carbon)  \\\n",
       "17504                                               NaN   \n",
       "\n",
       "       Emissions from bunker fuels (not included in the totals)  \n",
       "17504                                                0.0         "
      ]
     },
     "execution_count": 19,
     "metadata": {},
     "output_type": "execute_result"
    }
   ],
   "source": [
    "wrld[wrld['Year'] == 1751]"
   ]
  },
  {
   "cell_type": "code",
   "execution_count": null,
   "id": "01401136",
   "metadata": {},
   "outputs": [],
   "source": []
  }
 ],
 "metadata": {
  "kernelspec": {
   "display_name": "plotly_venv",
   "language": "python",
   "name": "python3"
  },
  "language_info": {
   "codemirror_mode": {
    "name": "ipython",
    "version": 3
   },
   "file_extension": ".py",
   "mimetype": "text/x-python",
   "name": "python",
   "nbconvert_exporter": "python",
   "pygments_lexer": "ipython3",
   "version": "3.12.9"
  }
 },
 "nbformat": 4,
 "nbformat_minor": 5
}
